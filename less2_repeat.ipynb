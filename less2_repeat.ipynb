{
  "nbformat": 4,
  "nbformat_minor": 0,
  "metadata": {
    "colab": {
      "name": "less2_repeat.ipynb",
      "provenance": [],
      "collapsed_sections": [],
      "authorship_tag": "ABX9TyM1TTtgZEdmT6kMjHh8WHPy",
      "include_colab_link": true
    },
    "kernelspec": {
      "name": "python3",
      "display_name": "Python 3"
    }
  },
  "cells": [
    {
      "cell_type": "markdown",
      "metadata": {
        "id": "view-in-github",
        "colab_type": "text"
      },
      "source": [
        "<a href=\"https://colab.research.google.com/github/revy1817/Data_Science-Numpy-Matplotlib-Scikit-learn-/blob/less2/less2_repeat.ipynb\" target=\"_parent\"><img src=\"https://colab.research.google.com/assets/colab-badge.svg\" alt=\"Open In Colab\"/></a>"
      ]
    },
    {
      "cell_type": "code",
      "metadata": {
        "id": "qD_RjyuJt8ln"
      },
      "source": [
        "import numpy as np\r\n",
        "import random\r\n",
        "from matplotlib import pyplot as plt\r\n"
      ],
      "execution_count": null,
      "outputs": []
    },
    {
      "cell_type": "markdown",
      "metadata": {
        "id": "cA3bXdnsxXs_"
      },
      "source": [
        "# **Задание №1**\r\n",
        "\r\n",
        "\r\n",
        "---\r\n",
        "\r\n",
        "\r\n",
        "Создать одномерный массив Numpy под названием a из 12 последовательных целых чисел чисел от 12 до 24 невключительно"
      ]
    },
    {
      "cell_type": "code",
      "metadata": {
        "colab": {
          "base_uri": "https://localhost:8080/"
        },
        "id": "m8uiwzctxfTL",
        "outputId": "210ae772-ca0a-46e9-96e8-2c29ee92c33a"
      },
      "source": [
        "a = np.arange(12, 24)\r\n",
        "print(a)"
      ],
      "execution_count": null,
      "outputs": [
        {
          "output_type": "stream",
          "text": [
            "[12 13 14 15 16 17 18 19 20 21 22 23]\n"
          ],
          "name": "stdout"
        }
      ]
    },
    {
      "cell_type": "markdown",
      "metadata": {
        "id": "mU3yc8P40UKD"
      },
      "source": [
        "# **Задание №2**\r\n",
        "\r\n",
        "\r\n",
        "---\r\n",
        "Создать 5 двумерных массивов разной формы из массива a. Не использовать в аргументах метода reshape число -1.\r\n"
      ]
    },
    {
      "cell_type": "code",
      "metadata": {
        "id": "Uk71coQC0udb"
      },
      "source": [
        "mas1 = np.random.choice(a, (2, random.randrange(2, 8)))\r\n",
        "mas2 = np.random.choice(a, (2, random.randrange(2, 8)))\r\n",
        "mas3 = np.random.choice(a, (2, random.randrange(2, 8)))\r\n",
        "mas4 = np.random.choice(a, (2, random.randrange(2, 8)))\r\n",
        "mas5 = np.random.choice(a, (2, random.randrange(2, 8)))"
      ],
      "execution_count": null,
      "outputs": []
    },
    {
      "cell_type": "markdown",
      "metadata": {
        "id": "RWfEJegJ4ea4"
      },
      "source": [
        "# **Задание №3**\r\n",
        "\r\n",
        "\r\n",
        "---\r\n",
        "Создать 5 двумерных массивов разной формы из массива a. Использовать в аргументах метода reshape число -1 (в трех примерах - для обозначения числа столбцов, в двух - для строк)\r\n",
        "\r\n"
      ]
    },
    {
      "cell_type": "code",
      "metadata": {
        "id": "rAfAyGuB5ppd"
      },
      "source": [
        "mas6 = a.reshape(-1, 3)\r\n",
        "mas7 = a.reshape(-1, 2)\r\n",
        "mas8 = a.reshape(2, -1)\r\n",
        "mas9 = a.reshape(3, -1)\r\n",
        "mas10 = a.reshape(4, -1)"
      ],
      "execution_count": null,
      "outputs": []
    },
    {
      "cell_type": "markdown",
      "metadata": {
        "id": "o2oBrAtw9pmy"
      },
      "source": [
        "# **Задание №4**\r\n",
        "\r\n",
        "\r\n",
        "\r\n",
        "Можно ли массив Numpy, состоящий из одного столбца и 12 строк, назвать одномерным?\r\n",
        "\r\n",
        "\r\n",
        "---\r\n",
        "\r\n",
        "## **Ответ:**\r\n",
        "Нет, так как массив Numpy будет включать в себя другие массивы"
      ]
    },
    {
      "cell_type": "markdown",
      "metadata": {
        "id": "mWZ57xSrAVmG"
      },
      "source": [
        "\r\n",
        "\r\n",
        "```\r\n",
        "# Выбран кодовый формат\r\n",
        "```\r\n",
        "\r\n",
        "# **Задание №5**\r\n",
        "\r\n",
        "\r\n",
        "---\r\n",
        "\r\n",
        "Создать массив из 3 строк и 4 столбцов, состоящий из случайных чисел с плавающей запятой из нормального распределения со средним, равным 0 и среднеквадратичным отклонением, равным 1.0. Получить из этого массива одномерный массив с таким же атрибутом size, как и исходный массив.\r\n"
      ]
    },
    {
      "cell_type": "code",
      "metadata": {
        "colab": {
          "base_uri": "https://localhost:8080/"
        },
        "id": "nez1NUcwq-aH",
        "outputId": "29ee0923-ba50-489e-9f77-a74543e5f999"
      },
      "source": [
        "mas11 = np.random.randn(3, 4)\r\n",
        "print(mas11)"
      ],
      "execution_count": null,
      "outputs": [
        {
          "output_type": "stream",
          "text": [
            "[[-1.60158511e+00  6.58227149e-01 -6.69840502e-01 -1.01808722e+00]\n",
            " [ 1.37788066e-03 -1.18187857e+00 -7.72086367e-01  1.30043687e+00]\n",
            " [-1.08120034e+00 -4.64307445e-01  6.85354852e-01 -4.91909234e-01]]\n"
          ],
          "name": "stdout"
        }
      ]
    },
    {
      "cell_type": "code",
      "metadata": {
        "colab": {
          "base_uri": "https://localhost:8080/"
        },
        "id": "u5Ah07VEspHv",
        "outputId": "e63c30db-e03e-43a7-92fb-7ada5a29aa89"
      },
      "source": [
        "mas12 = mas11.flatten()\r\n",
        "print(mas12)"
      ],
      "execution_count": null,
      "outputs": [
        {
          "output_type": "stream",
          "text": [
            "[-1.60158511e+00  6.58227149e-01 -6.69840502e-01 -1.01808722e+00\n",
            "  1.37788066e-03 -1.18187857e+00 -7.72086367e-01  1.30043687e+00\n",
            " -1.08120034e+00 -4.64307445e-01  6.85354852e-01 -4.91909234e-01]\n"
          ],
          "name": "stdout"
        }
      ]
    },
    {
      "cell_type": "markdown",
      "metadata": {
        "id": "Pduy4cWjtYCV"
      },
      "source": [
        "# **Задание №6**\r\n",
        "\r\n",
        "\r\n",
        "---\r\n",
        "\r\n",
        "Создать массив a, состоящий из целых чисел, убывающих от 20 до 0 невключительно с интервалом 2."
      ]
    },
    {
      "cell_type": "code",
      "metadata": {
        "colab": {
          "base_uri": "https://localhost:8080/"
        },
        "id": "RLC2u0iktcem",
        "outputId": "036d9429-a2bc-43f8-98a1-5e0c4b33ee99"
      },
      "source": [
        "a = np.arange(20, 0, -1)\r\n",
        "print(a)"
      ],
      "execution_count": null,
      "outputs": [
        {
          "output_type": "stream",
          "text": [
            "[20 19 18 17 16 15 14 13 12 11 10  9  8  7  6  5  4  3  2  1]\n"
          ],
          "name": "stdout"
        }
      ]
    },
    {
      "cell_type": "markdown",
      "metadata": {
        "id": "9UMvf9SYut_w"
      },
      "source": [
        "# **Задание №7**\r\n",
        "\r\n",
        "\r\n",
        "---\r\n",
        "\r\n",
        "Создать массив b, состоящий из 1 строки и 10 столбцов: целых чисел, убывающих от 20 до 1 невключительно с интервалом 2. В чем разница между массивами a и b?"
      ]
    },
    {
      "cell_type": "code",
      "metadata": {
        "colab": {
          "base_uri": "https://localhost:8080/"
        },
        "id": "JDR1SwUluz0c",
        "outputId": "d64e691b-55e6-454a-e66f-2b330afa1467"
      },
      "source": [
        "b = np.arange(20, 1, -2)\r\n",
        "print(b.reshape(-1, 1))"
      ],
      "execution_count": null,
      "outputs": [
        {
          "output_type": "stream",
          "text": [
            "[[20]\n",
            " [18]\n",
            " [16]\n",
            " [14]\n",
            " [12]\n",
            " [10]\n",
            " [ 8]\n",
            " [ 6]\n",
            " [ 4]\n",
            " [ 2]]\n"
          ],
          "name": "stdout"
        }
      ]
    },
    {
      "cell_type": "markdown",
      "metadata": {
        "id": "VAtxBP_nv8BT"
      },
      "source": [
        "## **Ответ на вопрос:**\r\n",
        "Массив а имеет один вложенный массив, массив b имеет внутри себя 10 вложенных массивов [Текст ссылки](https://)"
      ]
    },
    {
      "cell_type": "markdown",
      "metadata": {
        "id": "YCwEG4Avwf8o"
      },
      "source": [
        "# **Задание №8**\r\n",
        "\r\n",
        "\r\n",
        "---\r\n",
        "Вертикально соединить массивы a и b. a - двумерный массив из нулей, число строк которого больше 1 и на 1 меньше, чем число строк двумерного массива b, состоящего из единиц. Итоговый массив v должен иметь атрибут size, равный 10.\r\n",
        "\r\n"
      ]
    },
    {
      "cell_type": "code",
      "metadata": {
        "colab": {
          "base_uri": "https://localhost:8080/"
        },
        "id": "OuMkoQRj2sSu",
        "outputId": "3c7d8b5a-ad5f-40e4-ef4a-635b2cca78fb"
      },
      "source": [
        "a = np.zeros((2, 2))\r\n",
        "b = np.ones((3, 2))\r\n",
        "v = np.vstack((a, b))\r\n",
        "print(v)"
      ],
      "execution_count": null,
      "outputs": [
        {
          "output_type": "stream",
          "text": [
            "[[0. 0.]\n",
            " [0. 0.]\n",
            " [1. 1.]\n",
            " [1. 1.]\n",
            " [1. 1.]]\n"
          ],
          "name": "stdout"
        }
      ]
    },
    {
      "cell_type": "markdown",
      "metadata": {
        "id": "nV_9dfCv39kD"
      },
      "source": [
        "# **Задание №9**\r\n",
        "\r\n",
        "\r\n",
        "---\r\n",
        "\r\n",
        "Создать одномерный массив а, состоящий из последовательности целых чисел от 0 до 12. Поменять форму этого массива, чтобы получилась матрица A (двумерный массив Numpy), состоящая из 4 строк и 3 столбцов. Получить матрицу At путем транспонирования матрицы A. Получить матрицу B, умножив матрицу A на матрицу At с помощью матричного умножения. Какой размер имеет матрица B? Получится ли вычислить обратную матрицу для матрицы B и почему?\r\n"
      ]
    },
    {
      "cell_type": "code",
      "metadata": {
        "colab": {
          "base_uri": "https://localhost:8080/"
        },
        "id": "-ZjmyzRb6YMQ",
        "outputId": "1116fd0d-389f-494c-9171-970bf83480e2"
      },
      "source": [
        "a = np.arange(0, 12)\r\n",
        "a = a.reshape(4, 3)\r\n",
        "a_t = a.T\r\n",
        "b = a.dot(a_t)\r\n",
        "print(b)"
      ],
      "execution_count": null,
      "outputs": [
        {
          "output_type": "stream",
          "text": [
            "[[  5  14  23  32]\n",
            " [ 14  50  86 122]\n",
            " [ 23  86 149 212]\n",
            " [ 32 122 212 302]]\n"
          ],
          "name": "stdout"
        }
      ]
    },
    {
      "cell_type": "markdown",
      "metadata": {
        "id": "C_yraJn57pH9"
      },
      "source": [
        "## **Ответ на вопрос:**\r\n",
        "Матрица B имеет такие же размеры как и исходные матрицы, так как при умножении квадратных матриц резултатом будет квадратная матрица тех же размеров.\r\n",
        "Транспонировать матрицу B можно, так как транспонирование это процесс когда \r\n",
        "строки и столбцы матрицы меняются местами, в матрице B соблюдены все условия \r\n",
        "для это операции "
      ]
    },
    {
      "cell_type": "markdown",
      "metadata": {
        "id": "ZmYiynMY8ijA"
      },
      "source": [
        "# **Задание №10**\r\n",
        "\r\n",
        "\r\n",
        "---\r\n",
        "Инициализируйте генератор случайных числе с помощью объекта seed, равного 42.\r\n",
        "\r\n"
      ]
    },
    {
      "cell_type": "code",
      "metadata": {
        "colab": {
          "base_uri": "https://localhost:8080/"
        },
        "id": "Hp3chL_P8qae",
        "outputId": "c83f73e5-b376-4cc0-845c-6f94d92e1798"
      },
      "source": [
        "np.random.seed(seed=42)\r\n",
        "np.random.randint(1, 50)\r\n"
      ],
      "execution_count": null,
      "outputs": [
        {
          "output_type": "execute_result",
          "data": {
            "text/plain": [
              "39"
            ]
          },
          "metadata": {
            "tags": []
          },
          "execution_count": 67
        }
      ]
    },
    {
      "cell_type": "markdown",
      "metadata": {
        "id": "2EAnObiuIL66"
      },
      "source": [
        "# **Задание №11**\r\n",
        "\r\n",
        "\r\n",
        "---\r\n",
        "Создайте одномерный массив c, составленный из последовательности 16-ти случайных равномерно распределенных целых чисел от 0 до 16 невключительно. \r\n"
      ]
    },
    {
      "cell_type": "code",
      "metadata": {
        "colab": {
          "base_uri": "https://localhost:8080/"
        },
        "id": "oQFEoKBfIWVa",
        "outputId": "172f2e0e-0e21-436c-c612-8fe2f124d4ff"
      },
      "source": [
        "c = np.random.randint(0, 16, (1, 16))\r\n",
        "print(c)"
      ],
      "execution_count": null,
      "outputs": [
        {
          "output_type": "stream",
          "text": [
            "[[ 1  3  8 11 13  1  9  8  9  4  1  3 11 14 11  6]]\n"
          ],
          "name": "stdout"
        }
      ]
    },
    {
      "cell_type": "markdown",
      "metadata": {
        "id": "SfyfF7wWJlhf"
      },
      "source": [
        "# **Задание №12**\r\n",
        "\r\n",
        "\r\n",
        "\r\n",
        "---\r\n",
        "\r\n",
        "Поменяйте его форму так, чтобы получилась квадратная матрица C. Получите матрицу D, поэлементно прибавив матрицу B из предыдущего вопроса к матрице C, умноженной на 10. Вычислите определитель, ранг и обратную матрицу D_inv для D."
      ]
    },
    {
      "cell_type": "code",
      "metadata": {
        "colab": {
          "base_uri": "https://localhost:8080/"
        },
        "id": "uLMpWWSbKPF2",
        "outputId": "499d8030-3873-4c66-d5f1-3831b385a843"
      },
      "source": [
        "c = c.reshape(4, 4)\r\n",
        "d = (c * 10) + b\r\n",
        "d_det = np.linalg.det(d)\r\n",
        "print(d_det)"
      ],
      "execution_count": null,
      "outputs": [
        {
          "output_type": "stream",
          "text": [
            "-131179000.0000003\n"
          ],
          "name": "stdout"
        }
      ]
    },
    {
      "cell_type": "code",
      "metadata": {
        "colab": {
          "base_uri": "https://localhost:8080/"
        },
        "id": "MVS10pjfR8kF",
        "outputId": "475586e5-6fab-4baf-e555-dfba0a27feb5"
      },
      "source": [
        "d_r = np.linalg.matrix_rank(d)\r\n",
        "print(d_r)"
      ],
      "execution_count": null,
      "outputs": [
        {
          "output_type": "stream",
          "text": [
            "4\n"
          ],
          "name": "stdout"
        }
      ]
    },
    {
      "cell_type": "code",
      "metadata": {
        "colab": {
          "base_uri": "https://localhost:8080/"
        },
        "id": "rIUoGRekVYEw",
        "outputId": "a8ccf9e7-04d4-40b9-b3ab-37c0f507d51d"
      },
      "source": [
        "d_inv = np.linalg.inv(d)\r\n",
        "print(d_inv)"
      ],
      "execution_count": null,
      "outputs": [
        {
          "output_type": "stream",
          "text": [
            "[[-0.01288362  0.0059633   0.0049479  -0.0015815 ]\n",
            " [-0.00987109 -0.00748153  0.00457909  0.00498571]\n",
            " [ 0.00448502  0.00845151 -0.0201857   0.00701896]\n",
            " [ 0.00820863 -0.00444202  0.0127002  -0.00646902]]\n"
          ],
          "name": "stdout"
        }
      ]
    },
    {
      "cell_type": "markdown",
      "metadata": {
        "id": "Gc9euJJoYe4I"
      },
      "source": [
        "# **Задание №13**\r\n",
        "\r\n",
        "\r\n",
        "---\r\n",
        "Приравняйте к нулю отрицательные числа в матрице D_inv, а положительные - к единице. Убедитесь, что в матрице D_inv остались только нули и единицы. С помощью функции numpy.where, используя матрицу D_inv в качестве маски, а матрицы B и C - в качестве источников данных, получите матрицу E размером 4x4.  Элементы матрицы E, для которых соответствующий элемент матрицы D_inv равен 1, должны быть равны соответствующему элементу матрицы B, а элементы матрицы E, для которых соответствующий элемент матрицы D_inv равен 0, должны быть равны соответствующему элементу матрицы C.\r\n",
        "\r\n",
        "\r\n"
      ]
    },
    {
      "cell_type": "code",
      "metadata": {
        "colab": {
          "base_uri": "https://localhost:8080/"
        },
        "id": "CMkmDG-tYrTA",
        "outputId": "e1977892-7101-4a4a-df6c-1901d0fb8bc9"
      },
      "source": [
        "ind1 = np.where(d_inv > 0)\r\n",
        "d_inv[ind1] = 1\r\n",
        "ind2 = np.where(d_inv < 0)\r\n",
        "d_inv[ind2] = 0\r\n",
        "print(d_inv)"
      ],
      "execution_count": null,
      "outputs": [
        {
          "output_type": "stream",
          "text": [
            "[[0. 1. 1. 0.]\n",
            " [0. 0. 1. 1.]\n",
            " [1. 1. 0. 1.]\n",
            " [1. 0. 1. 0.]]\n"
          ],
          "name": "stdout"
        }
      ]
    },
    {
      "cell_type": "code",
      "metadata": {
        "colab": {
          "base_uri": "https://localhost:8080/"
        },
        "id": "F3vBJyUPZ90g",
        "outputId": "26c0bda8-d37e-4007-eb61-2568e7ca8183"
      },
      "source": [
        "e = np.zeros((4, 4))\r\n",
        "e = np.where(d_inv, b, c)\r\n",
        "print(e)"
      ],
      "execution_count": null,
      "outputs": [
        {
          "output_type": "stream",
          "text": [
            "[[  1  14  23  11]\n",
            " [ 13   1  86 122]\n",
            " [ 23  86   1 212]\n",
            " [ 32  14 212   6]]\n"
          ],
          "name": "stdout"
        }
      ]
    }
  ]
}