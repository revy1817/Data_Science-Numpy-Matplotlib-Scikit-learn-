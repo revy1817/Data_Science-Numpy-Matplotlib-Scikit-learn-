{
  "nbformat": 4,
  "nbformat_minor": 0,
  "metadata": {
    "colab": {
      "name": "Less1_numpy.ipynb",
      "provenance": [],
      "collapsed_sections": [],
      "toc_visible": true,
      "authorship_tag": "ABX9TyPUSsnwFjDhmPHKpBaE49vH",
      "include_colab_link": true
    },
    "kernelspec": {
      "name": "python3",
      "display_name": "Python 3"
    }
  },
  "cells": [
    {
      "cell_type": "markdown",
      "metadata": {
        "id": "view-in-github",
        "colab_type": "text"
      },
      "source": [
        "<a href=\"https://colab.research.google.com/github/revy1817/Data_Science-Numpy-Matplotlib-Scikit-learn-/blob/less1/Less1_numpy.ipynb\" target=\"_parent\"><img src=\"https://colab.research.google.com/assets/colab-badge.svg\" alt=\"Open In Colab\"/></a>"
      ]
    },
    {
      "cell_type": "code",
      "metadata": {
        "id": "saNk_sxKvKwu"
      },
      "source": [
        "import numpy as np"
      ],
      "execution_count": null,
      "outputs": []
    },
    {
      "cell_type": "markdown",
      "metadata": {
        "id": "bvE3MVCZxltU"
      },
      "source": [
        "# **Задание №1**"
      ]
    },
    {
      "cell_type": "code",
      "metadata": {
        "colab": {
          "base_uri": "https://localhost:8080/"
        },
        "id": "N4_qa5gzvjy3",
        "outputId": "5e20d10f-e8d1-4450-a617-fec1a444296e"
      },
      "source": [
        "a = np.array([[1, 6],\r\n",
        "              [2, 8],\r\n",
        "              [3, 11],\r\n",
        "              [3, 10],\r\n",
        "              [1,7]])\r\n",
        "mean_a = a.mean(axis=0)\r\n",
        "print(f\"Среднее значение по признаку: {mean_a}\")"
      ],
      "execution_count": null,
      "outputs": [
        {
          "output_type": "stream",
          "text": [
            "Среднее значение по признаку: [2.  8.4]\n"
          ],
          "name": "stdout"
        }
      ]
    },
    {
      "cell_type": "markdown",
      "metadata": {
        "id": "PNJlaACbyFvz"
      },
      "source": [
        "# **Задание №2**"
      ]
    },
    {
      "cell_type": "code",
      "metadata": {
        "colab": {
          "base_uri": "https://localhost:8080/"
        },
        "id": "n9CZccb0yMlY",
        "outputId": "24e49e6d-b6a4-4c96-b6e8-c2812f7b0ab0"
      },
      "source": [
        "a_centered = a - mean_a\r\n",
        "print(a_centered)"
      ],
      "execution_count": null,
      "outputs": [
        {
          "output_type": "stream",
          "text": [
            "[[-1.  -2.4]\n",
            " [ 0.  -0.4]\n",
            " [ 1.   2.6]\n",
            " [ 1.   1.6]\n",
            " [-1.  -1.4]]\n"
          ],
          "name": "stdout"
        }
      ]
    },
    {
      "cell_type": "markdown",
      "metadata": {
        "id": "krsoRTCU0-oL"
      },
      "source": [
        "# **Задание №3**"
      ]
    },
    {
      "cell_type": "code",
      "metadata": {
        "colab": {
          "base_uri": "https://localhost:8080/"
        },
        "id": "a7rAeMrh1Hfy",
        "outputId": "0692bc27-b1c1-47fd-f7bf-aed6707d50b5"
      },
      "source": [
        "a_centered_sp = a_centered[:, 0] @ a_centered[:, 1]\r\n",
        "a_centered_sp = a_centered_sp / (a_centered.shape[0] - 1)\r\n",
        "print(a_centered_sp) "
      ],
      "execution_count": null,
      "outputs": [
        {
          "output_type": "stream",
          "text": [
            "2.0\n"
          ],
          "name": "stdout"
        }
      ]
    },
    {
      "cell_type": "markdown",
      "metadata": {
        "id": "QvUXld3N8oqw"
      },
      "source": [
        "# **Задание №4**"
      ]
    },
    {
      "cell_type": "code",
      "metadata": {
        "colab": {
          "base_uri": "https://localhost:8080/"
        },
        "id": "iEFP6p278slt",
        "outputId": "80f4a885-52e0-44a7-a644-450da9631fcf"
      },
      "source": [
        "a_sp = np.cov(a.T)\r\n",
        "print(a_sp[0,1])"
      ],
      "execution_count": null,
      "outputs": [
        {
          "output_type": "stream",
          "text": [
            "2.0\n"
          ],
          "name": "stdout"
        }
      ]
    }
  ]
}